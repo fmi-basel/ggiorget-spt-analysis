{
 "cells": [
  {
   "cell_type": "code",
   "execution_count": 3,
   "metadata": {},
   "outputs": [],
   "source": [
    "import pandas as pd\n",
    "import numpy as np\n",
    "import matplotlib.pyplot as plt\n",
    "import seaborn as sns\n",
    "import os\n",
    "import re\n",
    "from tqdm import tqdm\n",
    "import glob"
   ]
  },
  {
   "cell_type": "code",
   "execution_count": 2,
   "metadata": {},
   "outputs": [],
   "source": [
    "def compute_cdf(path,dt = 10):\n",
    "    df = pd.read_csv(path)\n",
    "    df = df[df.channel == 'w1']\n",
    "    df.tamsd = df.tamsd*(0.16) # from pixel to µm\n",
    "    df.lags = df.lags*dt # from frame to seconds\n",
    "    df.tamsd = df.tamsd - (2*(0.035**2)) # subtract the localization error\n",
    "    df.rename(columns={'tamsd':'MSD(µm^2)','lags':'lags(s)'}, inplace=True)\n",
    "\n",
    "    max_s = []\n",
    "    for i in df.track_id.unique():\n",
    "        max_s.append(df[df.track_id == i]['lags(s)'].max())\n",
    "    \n",
    "    counts,bins = np.histogram(max_s,bins=181)\n",
    "    cdf = np.cumsum(counts / sum(counts))\n",
    "    return bins[1:],1-cdf"
   ]
  },
  {
   "cell_type": "code",
   "execution_count": 13,
   "metadata": {},
   "outputs": [
    {
     "data": {
      "text/plain": [
       "['/tungstenfs/scratch/ggiorget/nessim/cohesin_live_cell_analysis/results/20220907_Rad21-Halo_SPT_2D5_Sororin_noaux_40mW_2/msd_corrected__20220907_Rad21-Halo_SPT_2D5_Sororin_noaux_40mW_2.csv',\n",
       " '/tungstenfs/scratch/ggiorget/nessim/cohesin_live_cell_analysis/results/20230605_Rad21-Halo_G6_2_FullseqTIRF-Cy5-mCherryGFPWithSMB/msd_corrected__20230605_Rad21-Halo_G6_2_FullseqTIRF-Cy5-mCherryGFPWithSMB.csv',\n",
       " '/tungstenfs/scratch/ggiorget/nessim/cohesin_live_cell_analysis/results/20230531_Rad21-Halo_sororin_2D5_0h_2_FullseqTIRF-Cy5-mCherryGFPWithSMB/msd_corrected__20230531_Rad21-Halo_sororin_2D5_0h_2_FullseqTIRF-Cy5-mCherryGFPWithSMB.csv',\n",
       " '/tungstenfs/scratch/ggiorget/nessim/cohesin_live_cell_analysis/results/20230529_Rad21-Halo_NIPBL_1C5_6h_1_FullseqTIRF-Cy5-mCherryGFPWithSMB/msd_corrected__20230529_Rad21-Halo_NIPBL_1C5_6h_1_FullseqTIRF-Cy5-mCherryGFPWithSMB.csv',\n",
       " '/tungstenfs/scratch/ggiorget/nessim/cohesin_live_cell_analysis/results/20230526_Rad21-Halo_NIPBL_1C5_6h_1_FullseqTIRF-Cy5-mCherryGFPWithSMB/msd_corrected__20230526_Rad21-Halo_NIPBL_1C5_6h_1_FullseqTIRF-Cy5-mCherryGFPWithSMB.csv',\n",
       " '/tungstenfs/scratch/ggiorget/nessim/cohesin_live_cell_analysis/results/20230529_Rad21-Halo_Sororin_2D5_0h_2_FullseqTIRF-Cy5-mCherryGFPWithSMB/msd_corrected__20230529_Rad21-Halo_Sororin_2D5_0h_2_FullseqTIRF-Cy5-mCherryGFPWithSMB.csv',\n",
       " '/tungstenfs/scratch/ggiorget/nessim/cohesin_live_cell_analysis/results/20230529_Rad21-Halo_NIPBL_1C5_0h_1_FullseqTIRF-Cy5-mCherryGFPWithSMB/msd_corrected__20230529_Rad21-Halo_NIPBL_1C5_0h_1_FullseqTIRF-Cy5-mCherryGFPWithSMB.csv',\n",
       " '/tungstenfs/scratch/ggiorget/nessim/cohesin_live_cell_analysis/results/20230602_Rad21-Halo_sororin_2D5_3h_2_FullseqTIRF-Cy5-mCherryGFPWithSMB/msd_corrected__20230602_Rad21-Halo_sororin_2D5_3h_2_FullseqTIRF-Cy5-mCherryGFPWithSMB.csv',\n",
       " '/tungstenfs/scratch/ggiorget/nessim/cohesin_live_cell_analysis/results/20230529_Rad21-Halo_Sororin_2D5_0h_1_FullseqTIRF-Cy5-mCherryGFPWithSMB/msd_corrected__20230529_Rad21-Halo_Sororin_2D5_0h_1_FullseqTIRF-Cy5-mCherryGFPWithSMB.csv',\n",
       " '/tungstenfs/scratch/ggiorget/nessim/cohesin_live_cell_analysis/results/20230526_Rad21-Halo_NIPBL_1C5_0h_3_FullseqTIRF-Cy5-mCherryGFPWithSMB/msd_corrected__20230526_Rad21-Halo_NIPBL_1C5_0h_3_FullseqTIRF-Cy5-mCherryGFPWithSMB.csv',\n",
       " '/tungstenfs/scratch/ggiorget/nessim/cohesin_live_cell_analysis/results/20230526_Rad21-Halo_NIPBL_1C5_0h_1_FullseqTIRF-Cy5-mCherryGFPWithSMB/msd_corrected__20230526_Rad21-Halo_NIPBL_1C5_0h_1_FullseqTIRF-Cy5-mCherryGFPWithSMB.csv',\n",
       " '/tungstenfs/scratch/ggiorget/nessim/cohesin_live_cell_analysis/results/20230531_Rad21-Halo_sororin_2D5_0h_1_FullseqTIRF-Cy5-mCherryGFPWithSMB/msd_corrected__20230531_Rad21-Halo_sororin_2D5_0h_1_FullseqTIRF-Cy5-mCherryGFPWithSMB.csv',\n",
       " '/tungstenfs/scratch/ggiorget/nessim/cohesin_live_cell_analysis/results/20230531_Rad21-Halo_NIPBL_1C5_6h_FullseqTIRF-Cy5-mCherryGFPWithSMB/msd_corrected__20230531_Rad21-Halo_NIPBL_1C5_6h_FullseqTIRF-Cy5-mCherryGFPWithSMB.csv',\n",
       " '/tungstenfs/scratch/ggiorget/nessim/cohesin_live_cell_analysis/results/20230526_Rad21-Halo_NIPBL_1C5_0h_2_FullseqTIRF-Cy5-mCherryGFPWithSMB/msd_corrected__20230526_Rad21-Halo_NIPBL_1C5_0h_2_FullseqTIRF-Cy5-mCherryGFPWithSMB.csv',\n",
       " '/tungstenfs/scratch/ggiorget/nessim/cohesin_live_cell_analysis/results/20230605_Rad21-Halo_G6_1_FullseqTIRF-Cy5-mCherryGFPWithSMB/msd_corrected__20230605_Rad21-Halo_G6_1_FullseqTIRF-Cy5-mCherryGFPWithSMB.csv',\n",
       " '/tungstenfs/scratch/ggiorget/nessim/cohesin_live_cell_analysis/results/20230602_Rad21-Halo_sororin_2D5_3h_1_FullseqTIRF-Cy5-mCherryGFPWithSMB/msd_corrected__20230602_Rad21-Halo_sororin_2D5_3h_1_FullseqTIRF-Cy5-mCherryGFPWithSMB.csv',\n",
       " '/tungstenfs/scratch/ggiorget/nessim/cohesin_live_cell_analysis/results/20230529_Rad21-Halo_NIPBL_1C5_6h_2_FullseqTIRF-Cy5-mCherryGFPWithSMB/msd_corrected__20230529_Rad21-Halo_NIPBL_1C5_6h_2_FullseqTIRF-Cy5-mCherryGFPWithSMB.csv',\n",
       " '/tungstenfs/scratch/ggiorget/nessim/cohesin_live_cell_analysis/results/20230602_Rad21-Halo_sororin_2D5_3h_3_FullseqTIRF-Cy5-mCherryGFPWithSMB/msd_corrected__20230602_Rad21-Halo_sororin_2D5_3h_3_FullseqTIRF-Cy5-mCherryGFPWithSMB.csv',\n",
       " '/tungstenfs/scratch/ggiorget/nessim/cohesin_live_cell_analysis/results/20230605_Rad21-Halo_G6_3_FullseqTIRF-Cy5-mCherryGFPWithSMB/msd_corrected__20230605_Rad21-Halo_G6_3_FullseqTIRF-Cy5-mCherryGFPWithSMB.csv',\n",
       " '/tungstenfs/scratch/ggiorget/nessim/cohesin_live_cell_analysis/results/fixed/20231026_Rad21-Halo_SPT_2D5_Sororin_noaux_nodtag_fixed_4_FullseqTIRF-Cy5-mCherryGFPWithSMB/msd_uncorrected__20231026_Rad21-Halo_SPT_2D5_Sororin_noaux_nodtag_fixed_4_FullseqTIRF-Cy5-mCherryGFPWithSMB.csv']"
      ]
     },
     "execution_count": 13,
     "metadata": {},
     "output_type": "execute_result"
    }
   ],
   "source": [
    "list_files = glob.glob('/tungstenfs/scratch/ggiorget/nessim/cohesin_live_cell_analysis/results/*/msd_corrected_*')\n",
    "list_files.append('/tungstenfs/scratch/ggiorget/nessim/cohesin_live_cell_analysis/results/fixed/20231026_Rad21-Halo_SPT_2D5_Sororin_noaux_nodtag_fixed_4_FullseqTIRF-Cy5-mCherryGFPWithSMB/msd_uncorrected__20231026_Rad21-Halo_SPT_2D5_Sororin_noaux_nodtag_fixed_4_FullseqTIRF-Cy5-mCherryGFPWithSMB.csv')\n",
    "list_files "
   ]
  },
  {
   "cell_type": "code",
   "execution_count": 32,
   "metadata": {},
   "outputs": [
    {
     "data": {
      "text/plain": [
       "['Rad21-Halo_SPT_2D5_Sororin_noaux_40mW',\n",
       " 'Rad21-Halo_G6_2',\n",
       " 'Rad21-Halo_sororin_2D5_0h_2',\n",
       " 'Rad21-Halo_NIPBL_1C5_6h_1',\n",
       " 'Rad21-Halo_NIPBL_1C5_6h_1',\n",
       " 'Rad21-Halo_Sororin_2D5_0h_2',\n",
       " 'Rad21-Halo_NIPBL_1C5_0h_1',\n",
       " 'Rad21-Halo_sororin_2D5_3h_2',\n",
       " 'Rad21-Halo_Sororin_2D5_0h_1',\n",
       " 'Rad21-Halo_NIPBL_1C5_0h_3',\n",
       " 'Rad21-Halo_NIPBL_1C5_0h_1',\n",
       " 'Rad21-Halo_sororin_2D5_0h_1',\n",
       " 'Rad21-Halo_NIPBL_1C5_6h',\n",
       " 'Rad21-Halo_NIPBL_1C5_0h_2',\n",
       " 'Rad21-Halo_G6_1',\n",
       " 'Rad21-Halo_sororin_2D5_3h_1',\n",
       " 'Rad21-Halo_NIPBL_1C5_6h_2',\n",
       " 'Rad21-Halo_sororin_2D5_3h_3',\n",
       " 'Rad21-Halo_G6_3',\n",
       " 'Rad21-Halo_SPT_2D5_Sororin_noaux_nodtag_fixed_4']"
      ]
     },
     "execution_count": 32,
     "metadata": {},
     "output_type": "execute_result"
    }
   ],
   "source": [
    "import re\n",
    "\n",
    "# Define the input string\n",
    "input_string = list_files[3]\n",
    "\n",
    "# Define the regular expression pattern to match the desired string\n",
    "pattern = r'_(\\w+-\\w+)_'\n",
    "\n",
    "files_names = [re.search(pattern, input_string).group(1) for input_string in list_files]\n",
    "files_names"
   ]
  },
  {
   "cell_type": "code",
   "execution_count": 15,
   "metadata": {},
   "outputs": [],
   "source": [
    "bins, cdf = zip(*map(compute_cdf,list_files))"
   ]
  },
  {
   "cell_type": "code",
   "execution_count": 42,
   "metadata": {},
   "outputs": [
    {
     "data": {
      "image/png": "[encoded data removed]",
      "text/plain": [
       "<Figure size 640x480 with 1 Axes>"
      ]
     },
     "metadata": {},
     "output_type": "display_data"
    }
   ],
   "source": [
    "for b,c,lab in zip(bins,cdf,files_names):\n",
    "    if lab == 'Rad21-Halo_SPT_2D5_Sororin_noaux_nodtag_fixed_4':\n",
    "        plt.scatter(b[:-1],c[:-1],marker='.',label=lab,color='black')\n",
    "        plt.yscale('log')\n",
    "        plt.xscale('log')\n",
    "        plt.legend()\n",
    "    else:\n",
    "        continue\n",
    "        plt.scatter(b[:-1],c[:-1],marker='.',label=lab)\n",
    "        plt.yscale('log')\n",
    "        plt.xscale('log')\n",
    "\n",
    "        plt.legend(bbox_to_anchor=(1.05, 1.05))"
   ]
  },
  {
   "cell_type": "code",
   "execution_count": 43,
   "metadata": {},
   "outputs": [
    {
     "data": {
      "text/plain": [
       "['/tungstenfs/scratch/ggiorget/Pia/microscopy/Rad21-Halo/20231026/fixed/tiff/denoised/20231026_Rad21-Halo_SPT_2D5_Sororin_noaux_nodtag_fixed_3_FullseqTIRF-Cy5-mCherryGFPWithSMB_w2.tif',\n",
       " '/tungstenfs/scratch/ggiorget/Pia/microscopy/Rad21-Halo/20231026/fixed/tiff/denoised/20231026_Rad21-Halo_SPT_2D5_Sororin_noaux_nodtag_fixed_4_FullseqTIRF-Cy5-mCherryGFPWithSMB_w2.tif',\n",
       " '/tungstenfs/scratch/ggiorget/Pia/microscopy/Rad21-Halo/20231026/fixed/tiff/denoised/20231026_Rad21-Halo_SPT_2D5_Sororin_noaux_nodtag_fixed_4_FullseqTIRF-Cy5-mCherryGFPWithSMB_w1.tif',\n",
       " '/tungstenfs/scratch/ggiorget/Pia/microscopy/Rad21-Halo/20231026/fixed/tiff/denoised/20231026_Rad21-Halo_SPT_2D5_Sororin_noaux_nodtag_fixed_3_FullseqTIRF-Cy5-mCherryGFPWithSMB_w1.tif',\n",
       " '/tungstenfs/scratch/ggiorget/Pia/microscopy/Rad21-Halo/20231026/fixed/tiff/denoised/20231026_Rad21-Halo_SPT_2D5_Sororin_noaux_nodtag_fixed_2_FullseqTIRF-Cy5-mCherryGFPWithSMB_w1.tif',\n",
       " '/tungstenfs/scratch/ggiorget/Pia/microscopy/Rad21-Halo/20231026/fixed/tiff/denoised/20231026_Rad21-Halo_SPT_2D5_Sororin_noaux_nodtag_fixed_1_FullseqTIRF-Cy5-mCherryGFPWithSMB_w2.tif',\n",
       " '/tungstenfs/scratch/ggiorget/Pia/microscopy/Rad21-Halo/20231026/fixed/tiff/denoised/20231026_Rad21-Halo_SPT_2D5_Sororin_noaux_nodtag_fixed_1_FullseqTIRF-Cy5-mCherryGFPWithSMB_w1.tif',\n",
       " '/tungstenfs/scratch/ggiorget/Pia/microscopy/Rad21-Halo/20231026/fixed/tiff/denoised/20231026_Rad21-Halo_SPT_2D5_Sororin_noaux_nodtag_fixed_2_FullseqTIRF-Cy5-mCherryGFPWithSMB_w2.tif']"
      ]
     },
     "execution_count": 43,
     "metadata": {},
     "output_type": "execute_result"
    }
   ],
   "source": [
    "glob.glob('/tungstenfs/scratch/ggiorget/Pia/microscopy/Rad21-Halo/20231026/fixed/tiff/denoised/*.tif')"
   ]
  },
  {
   "cell_type": "code",
   "execution_count": 46,
   "metadata": {},
   "outputs": [
    {
     "name": "stdout",
     "output_type": "stream",
     "text": [
      "['20231026_Rad21-Halo_SPT_2D5_Sororin_noaux_nodtag_fixed_3_FullseqTIRF-Cy5-mCherryGFPWithSMB_w2.tif', '20231026_Rad21-Halo_SPT_2D5_Sororin_noaux_nodtag_fixed_4_FullseqTIRF-Cy5-mCherryGFPWithSMB_w2.tif', '20231026_Rad21-Halo_SPT_2D5_Sororin_noaux_nodtag_fixed_4_FullseqTIRF-Cy5-mCherryGFPWithSMB_w1.tif', '20231026_Rad21-Halo_SPT_2D5_Sororin_noaux_nodtag_fixed_3_FullseqTIRF-Cy5-mCherryGFPWithSMB_w1.tif', '20231026_Rad21-Halo_SPT_2D5_Sororin_noaux_nodtag_fixed_2_FullseqTIRF-Cy5-mCherryGFPWithSMB_w1.tif', '20231026_Rad21-Halo_SPT_2D5_Sororin_noaux_nodtag_fixed_1_FullseqTIRF-Cy5-mCherryGFPWithSMB_w2.tif', '20231026_Rad21-Halo_SPT_2D5_Sororin_noaux_nodtag_fixed_1_FullseqTIRF-Cy5-mCherryGFPWithSMB_w1.tif', '20231026_Rad21-Halo_SPT_2D5_Sororin_noaux_nodtag_fixed_2_FullseqTIRF-Cy5-mCherryGFPWithSMB_w2.tif']\n"
     ]
    }
   ],
   "source": [
    "\n",
    "# Define the file path pattern\n",
    "file_path_pattern = '/tungstenfs/scratch/ggiorget/Pia/microscopy/Rad21-Halo/20231026/fixed/tiff/denoised/*.tif'\n",
    "\n",
    "# Use glob.glob to find all files that match the pattern\n",
    "file_paths = glob.glob(file_path_pattern)\n",
    "\n",
    "# Use a list comprehension and os.path.basename to extract just the filename (including the extension) from each file path\n",
    "file_names = [os.path.basename(file_path) for file_path in file_paths]\n",
    "\n",
    "# Print the list of file names\n",
    "print(file_names)"
   ]
  },
  {
   "cell_type": "code",
   "execution_count": 48,
   "metadata": {},
   "outputs": [
    {
     "name": "stdout",
     "output_type": "stream",
     "text": [
      "['20231026_Rad21-Halo_SPT_2D5_Sororin_noaux_nodtag_fixed_3_FullseqTIRF-Cy5-mCherryGFPWithSMB', '20231026_Rad21-Halo_SPT_2D5_Sororin_noaux_nodtag_fixed_4_FullseqTIRF-Cy5-mCherryGFPWithSMB', '20231026_Rad21-Halo_SPT_2D5_Sororin_noaux_nodtag_fixed_4_FullseqTIRF-Cy5-mCherryGFPWithSMB', '20231026_Rad21-Halo_SPT_2D5_Sororin_noaux_nodtag_fixed_3_FullseqTIRF-Cy5-mCherryGFPWithSMB', '20231026_Rad21-Halo_SPT_2D5_Sororin_noaux_nodtag_fixed_2_FullseqTIRF-Cy5-mCherryGFPWithSMB', '20231026_Rad21-Halo_SPT_2D5_Sororin_noaux_nodtag_fixed_1_FullseqTIRF-Cy5-mCherryGFPWithSMB', '20231026_Rad21-Halo_SPT_2D5_Sororin_noaux_nodtag_fixed_1_FullseqTIRF-Cy5-mCherryGFPWithSMB', '20231026_Rad21-Halo_SPT_2D5_Sororin_noaux_nodtag_fixed_2_FullseqTIRF-Cy5-mCherryGFPWithSMB']\n"
     ]
    }
   ],
   "source": [
    "# Define the file path pattern\n",
    "file_path_pattern = '/tungstenfs/scratch/ggiorget/Pia/microscopy/Rad21-Halo/20231026/fixed/tiff/denoised/*.tif'\n",
    "\n",
    "# Use glob.glob to find all files that match the pattern\n",
    "file_paths = glob.glob(file_path_pattern)\n",
    "\n",
    "# Use a list comprehension and os.path.basename to extract just the filename (including the extension) from each file path\n",
    "file_names = [os.path.basename(file_path) for file_path in file_paths]\n",
    "\n",
    "# Use another list comprehension and str.replace to remove the _w1 or _w2 suffix from each file name\n",
    "file_names = [file_name.replace('_w1', '').replace('_w2', '').replace('.tif','') for file_name in file_names]\n",
    "\n",
    "# Print the list of modified file names\n",
    "print(file_names)"
   ]
  },
  {
   "cell_type": "code",
   "execution_count": null,
   "metadata": {},
   "outputs": [],
   "source": []
  }
 ],
 "metadata": {
  "kernelspec": {
   "display_name": "Python 3",
   "language": "python",
   "name": "python3"
  },
  "language_info": {
   "codemirror_mode": {
    "name": "ipython",
    "version": 3
   },
   "file_extension": ".py",
   "mimetype": "text/x-python",
   "name": "python",
   "nbconvert_exporter": "python",
   "pygments_lexer": "ipython3",
   "version": "3.10.9"
  }
 },
 "nbformat": 4,
 "nbformat_minor": 2
}
